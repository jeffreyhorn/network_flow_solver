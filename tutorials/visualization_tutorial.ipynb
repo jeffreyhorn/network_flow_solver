{
 "cells": [
  {
   "cell_type": "markdown",
   "metadata": {},
   "source": [
    "# Network Flow Visualization Tutorial\n",
    "\n",
    "This tutorial demonstrates how to use the visualization utilities in the `network-flow-solver` package to create publication-quality visualizations of network flow problems and solutions.\n",
    "\n",
    "## Overview\n",
    "\n",
    "The package provides three main visualization functions:\n",
    "\n",
    "1. **`visualize_network()`** - Visualize the network structure with nodes, arcs, costs, and capacities\n",
    "2. **`visualize_flows()`** - Visualize the flow solution with optional bottleneck highlighting\n",
    "3. **`visualize_bottlenecks()`** - Focus on bottlenecks with utilization heatmaps\n",
    "\n",
    "## Prerequisites\n",
    "\n",
    "Make sure you have the visualization dependencies installed:\n",
    "\n",
    "```bash\n",
    "pip install 'network-flow-solver[visualization]'\n",
    "```\n",
    "\n",
    "This installs matplotlib and networkx, which are required for visualization."
   ]
  },
  {
   "cell_type": "markdown",
   "metadata": {},
   "source": [
    "## Setup and Imports"
   ]
  },
  {
   "cell_type": "code",
   "execution_count": null,
   "metadata": {},
   "outputs": [],
   "source": [
    "# Import the necessary modules\n",
    "# For inline display in Jupyter\n",
    "import matplotlib.pyplot as plt\n",
    "\n",
    "from network_solver import (\n",
    "    build_problem,\n",
    "    solve_min_cost_flow,\n",
    "    visualize_bottlenecks,\n",
    "    visualize_flows,\n",
    "    visualize_network,\n",
    ")\n",
    "\n",
    "%matplotlib inline\n",
    "plt.rcParams[\"figure.dpi\"] = 100  # Adjust for your display"
   ]
  },
  {
   "cell_type": "markdown",
   "metadata": {},
   "source": [
    "## Example 1: Simple Supply Chain Network\n",
    "\n",
    "Let's start with a simple supply chain: two factories shipping to two warehouses."
   ]
  },
  {
   "cell_type": "code",
   "execution_count": null,
   "metadata": {},
   "outputs": [],
   "source": [
    "# Define a simple supply chain network\n",
    "nodes = [\n",
    "    {\"id\": \"factory_a\", \"supply\": 100},  # Factory A produces 100 units\n",
    "    {\"id\": \"factory_b\", \"supply\": 80},  # Factory B produces 80 units\n",
    "    {\"id\": \"warehouse_1\", \"supply\": -70},  # Warehouse 1 needs 70 units\n",
    "    {\"id\": \"warehouse_2\", \"supply\": -110},  # Warehouse 2 needs 110 units\n",
    "]\n",
    "\n",
    "arcs = [\n",
    "    {\"tail\": \"factory_a\", \"head\": \"warehouse_1\", \"capacity\": 80, \"cost\": 4.0},\n",
    "    {\"tail\": \"factory_a\", \"head\": \"warehouse_2\", \"capacity\": 70, \"cost\": 6.0},\n",
    "    {\"tail\": \"factory_b\", \"head\": \"warehouse_1\", \"capacity\": 50, \"cost\": 5.0},\n",
    "    {\"tail\": \"factory_b\", \"head\": \"warehouse_2\", \"capacity\": 60, \"cost\": 3.0},\n",
    "]\n",
    "\n",
    "problem = build_problem(nodes, arcs, directed=True)"
   ]
  },
  {
   "cell_type": "markdown",
   "metadata": {},
   "source": [
    "### Visualizing the Network Structure\n",
    "\n",
    "Use `visualize_network()` to see the network structure with:\n",
    "- **Green nodes**: Sources (supply > 0)\n",
    "- **Red nodes**: Sinks (supply < 0)\n",
    "- **Blue nodes**: Transshipment nodes (supply = 0)\n",
    "- **Arc labels**: Show cost and capacity"
   ]
  },
  {
   "cell_type": "code",
   "execution_count": null,
   "metadata": {},
   "outputs": [],
   "source": [
    "fig = visualize_network(problem, title=\"Simple Supply Chain Network\")\n",
    "plt.tight_layout()\n",
    "plt.show()"
   ]
  },
  {
   "cell_type": "markdown",
   "metadata": {},
   "source": [
    "### Solving and Visualizing the Flow Solution"
   ]
  },
  {
   "cell_type": "code",
   "execution_count": null,
   "metadata": {},
   "outputs": [],
   "source": [
    "# Solve the problem\n",
    "result = solve_min_cost_flow(problem)\n",
    "\n",
    "print(f\"Status: {result.status}\")\n",
    "print(f\"Total Cost: {result.cost:.2f}\")\n",
    "print(f\"Iterations: {result.iterations}\")"
   ]
  },
  {
   "cell_type": "markdown",
   "metadata": {},
   "source": [
    "### Visualizing Flows with Bottleneck Highlighting\n",
    "\n",
    "Use `visualize_flows()` to see:\n",
    "- Flow values on each arc (thickness proportional to flow)\n",
    "- Bottlenecks highlighted in red (arcs at ≥90% capacity by default)\n",
    "- Remaining capacity information"
   ]
  },
  {
   "cell_type": "code",
   "execution_count": null,
   "metadata": {},
   "outputs": [],
   "source": [
    "fig = visualize_flows(\n",
    "    problem,\n",
    "    result,\n",
    "    highlight_bottlenecks=True,\n",
    "    title=\"Supply Chain Flow Solution with Bottlenecks\",\n",
    ")\n",
    "plt.tight_layout()\n",
    "plt.show()"
   ]
  },
  {
   "cell_type": "markdown",
   "metadata": {},
   "source": [
    "## Example 2: Transportation Network with Multiple Layouts\n",
    "\n",
    "Let's create a larger transportation network and explore different layout algorithms."
   ]
  },
  {
   "cell_type": "code",
   "execution_count": null,
   "metadata": {},
   "outputs": [],
   "source": [
    "# Create a 3x3 transportation problem\n",
    "nodes = [\n",
    "    # Sources\n",
    "    {\"id\": \"plant_1\", \"supply\": 150},\n",
    "    {\"id\": \"plant_2\", \"supply\": 200},\n",
    "    {\"id\": \"plant_3\", \"supply\": 100},\n",
    "    # Destinations\n",
    "    {\"id\": \"customer_1\", \"supply\": -180},\n",
    "    {\"id\": \"customer_2\", \"supply\": -120},\n",
    "    {\"id\": \"customer_3\", \"supply\": -150},\n",
    "]\n",
    "\n",
    "# Create all possible shipping routes\n",
    "arcs = []\n",
    "costs = [\n",
    "    [8, 6, 10],  # Plant 1 to customers\n",
    "    [9, 12, 13],  # Plant 2 to customers\n",
    "    [14, 9, 16],  # Plant 3 to customers\n",
    "]\n",
    "\n",
    "for i, plant in enumerate([\"plant_1\", \"plant_2\", \"plant_3\"]):\n",
    "    for j, customer in enumerate([\"customer_1\", \"customer_2\", \"customer_3\"]):\n",
    "        arcs.append(\n",
    "            {\n",
    "                \"tail\": plant,\n",
    "                \"head\": customer,\n",
    "                \"capacity\": 200,  # Large capacity\n",
    "                \"cost\": costs[i][j],\n",
    "            }\n",
    "        )\n",
    "\n",
    "transport_problem = build_problem(nodes, arcs, directed=True)\n",
    "transport_result = solve_min_cost_flow(transport_problem)\n",
    "\n",
    "print(f\"Transportation Cost: ${transport_result.cost:.2f}\")"
   ]
  },
  {
   "cell_type": "markdown",
   "metadata": {},
   "source": [
    "### Comparing Different Layout Algorithms\n",
    "\n",
    "The visualization functions support multiple layout algorithms:\n",
    "- **spring**: Force-directed layout (default)\n",
    "- **circular**: Nodes arranged in a circle\n",
    "- **kamada_kawai**: Energy-minimization layout\n",
    "- **planar**: Attempts planar layout (if graph is planar)"
   ]
  },
  {
   "cell_type": "code",
   "execution_count": null,
   "metadata": {},
   "outputs": [],
   "source": [
    "# Create a figure with multiple subplots\n",
    "layouts = [\"spring\", \"circular\", \"kamada_kawai\"]\n",
    "\n",
    "fig, axes = plt.subplots(1, 3, figsize=(18, 5))\n",
    "\n",
    "for ax, layout in zip(axes, layouts, strict=True):\n",
    "    plt.sca(ax)\n",
    "    visualize_flows(\n",
    "        transport_problem,\n",
    "        transport_result,\n",
    "        layout=layout,\n",
    "        figsize=(6, 5),\n",
    "        title=f\"{layout.replace('_', ' ').title()} Layout\",\n",
    "        show_zero_flows=False,\n",
    "    )\n",
    "\n",
    "plt.tight_layout()\n",
    "plt.show()"
   ]
  },
  {
   "cell_type": "markdown",
   "metadata": {},
   "source": [
    "## Example 3: Multi-Stage Supply Chain with Transshipment\n",
    "\n",
    "Let's create a more complex network with intermediate distribution centers (transshipment nodes)."
   ]
  },
  {
   "cell_type": "code",
   "execution_count": null,
   "metadata": {},
   "outputs": [],
   "source": [
    "# Multi-stage supply chain: Suppliers -> Distribution Centers -> Retailers\n",
    "nodes = [\n",
    "    # Suppliers\n",
    "    {\"id\": \"supplier_a\", \"supply\": 200},\n",
    "    {\"id\": \"supplier_b\", \"supply\": 150},\n",
    "    # Distribution centers (transshipment)\n",
    "    {\"id\": \"dc_east\", \"supply\": 0},\n",
    "    {\"id\": \"dc_west\", \"supply\": 0},\n",
    "    # Retailers\n",
    "    {\"id\": \"retail_1\", \"supply\": -100},\n",
    "    {\"id\": \"retail_2\", \"supply\": -120},\n",
    "    {\"id\": \"retail_3\", \"supply\": -130},\n",
    "]\n",
    "\n",
    "arcs = [\n",
    "    # Suppliers to DCs\n",
    "    {\"tail\": \"supplier_a\", \"head\": \"dc_east\", \"capacity\": 120, \"cost\": 2.0},\n",
    "    {\"tail\": \"supplier_a\", \"head\": \"dc_west\", \"capacity\": 100, \"cost\": 3.0},\n",
    "    {\"tail\": \"supplier_b\", \"head\": \"dc_east\", \"capacity\": 80, \"cost\": 2.5},\n",
    "    {\"tail\": \"supplier_b\", \"head\": \"dc_west\", \"capacity\": 90, \"cost\": 2.0},\n",
    "    # DCs to Retailers\n",
    "    {\"tail\": \"dc_east\", \"head\": \"retail_1\", \"capacity\": 80, \"cost\": 1.5},\n",
    "    {\"tail\": \"dc_east\", \"head\": \"retail_2\", \"capacity\": 90, \"cost\": 1.8},\n",
    "    {\"tail\": \"dc_east\", \"head\": \"retail_3\", \"capacity\": 70, \"cost\": 2.2},\n",
    "    {\"tail\": \"dc_west\", \"head\": \"retail_1\", \"capacity\": 60, \"cost\": 2.0},\n",
    "    {\"tail\": \"dc_west\", \"head\": \"retail_2\", \"capacity\": 70, \"cost\": 1.5},\n",
    "    {\"tail\": \"dc_west\", \"head\": \"retail_3\", \"capacity\": 80, \"cost\": 1.6},\n",
    "]\n",
    "\n",
    "multi_stage_problem = build_problem(nodes, arcs, directed=True)"
   ]
  },
  {
   "cell_type": "markdown",
   "metadata": {},
   "source": [
    "### Visualize the Network Structure\n",
    "\n",
    "Notice the transshipment nodes (distribution centers) shown in blue."
   ]
  },
  {
   "cell_type": "code",
   "execution_count": null,
   "metadata": {},
   "outputs": [],
   "source": [
    "fig = visualize_network(\n",
    "    multi_stage_problem,\n",
    "    layout=\"spring\",\n",
    "    title=\"Multi-Stage Supply Chain Network\",\n",
    "    figsize=(14, 10),\n",
    ")\n",
    "plt.tight_layout()\n",
    "plt.show()"
   ]
  },
  {
   "cell_type": "code",
   "execution_count": null,
   "metadata": {},
   "outputs": [],
   "source": [
    "# Solve the multi-stage problem\n",
    "multi_stage_result = solve_min_cost_flow(multi_stage_problem)\n",
    "\n",
    "print(f\"Status: {multi_stage_result.status}\")\n",
    "print(f\"Total Cost: ${multi_stage_result.cost:.2f}\")\n",
    "print(\"\\nFlow through distribution centers:\")\n",
    "\n",
    "# Calculate flow through each DC\n",
    "for dc in [\"dc_east\", \"dc_west\"]:\n",
    "    inflow = sum(flow for (tail, head), flow in multi_stage_result.flows.items() if head == dc)\n",
    "    print(f\"  {dc}: {inflow:.0f} units\")"
   ]
  },
  {
   "cell_type": "markdown",
   "metadata": {},
   "source": [
    "### Visualize the Flow Solution"
   ]
  },
  {
   "cell_type": "code",
   "execution_count": null,
   "metadata": {},
   "outputs": [],
   "source": [
    "fig = visualize_flows(\n",
    "    multi_stage_problem,\n",
    "    multi_stage_result,\n",
    "    highlight_bottlenecks=True,\n",
    "    title=\"Multi-Stage Supply Chain Flow Solution\",\n",
    "    figsize=(14, 10),\n",
    ")\n",
    "plt.tight_layout()\n",
    "plt.show()"
   ]
  },
  {
   "cell_type": "markdown",
   "metadata": {},
   "source": [
    "## Example 4: Bottleneck Analysis\n",
    "\n",
    "The `visualize_bottlenecks()` function provides a focused view of capacity constraints with a utilization heatmap."
   ]
  },
  {
   "cell_type": "code",
   "execution_count": null,
   "metadata": {},
   "outputs": [],
   "source": [
    "# Create a network with intentional bottlenecks\n",
    "nodes = [\n",
    "    {\"id\": \"source_1\", \"supply\": 100},\n",
    "    {\"id\": \"source_2\", \"supply\": 80},\n",
    "    {\"id\": \"hub\", \"supply\": 0},  # Bottleneck hub\n",
    "    {\"id\": \"dest_1\", \"supply\": -90},\n",
    "    {\"id\": \"dest_2\", \"supply\": -90},\n",
    "]\n",
    "\n",
    "arcs = [\n",
    "    # Plenty of capacity to hub\n",
    "    {\"tail\": \"source_1\", \"head\": \"hub\", \"capacity\": 150, \"cost\": 1.0},\n",
    "    {\"tail\": \"source_2\", \"head\": \"hub\", \"capacity\": 150, \"cost\": 1.0},\n",
    "    # Limited capacity from hub (bottleneck!)\n",
    "    {\"tail\": \"hub\", \"head\": \"dest_1\", \"capacity\": 90, \"cost\": 2.0},\n",
    "    {\"tail\": \"hub\", \"head\": \"dest_2\", \"capacity\": 90, \"cost\": 2.0},\n",
    "]\n",
    "\n",
    "bottleneck_problem = build_problem(nodes, arcs, directed=True)\n",
    "bottleneck_result = solve_min_cost_flow(bottleneck_problem)"
   ]
  },
  {
   "cell_type": "markdown",
   "metadata": {},
   "source": [
    "### Standard Flow Visualization"
   ]
  },
  {
   "cell_type": "code",
   "execution_count": null,
   "metadata": {},
   "outputs": [],
   "source": [
    "fig = visualize_flows(\n",
    "    bottleneck_problem,\n",
    "    bottleneck_result,\n",
    "    highlight_bottlenecks=True,\n",
    "    bottleneck_threshold=0.9,  # 90% utilization\n",
    "    title=\"Network with Bottlenecks\",\n",
    ")\n",
    "plt.tight_layout()\n",
    "plt.show()"
   ]
  },
  {
   "cell_type": "markdown",
   "metadata": {},
   "source": [
    "### Focused Bottleneck Analysis\n",
    "\n",
    "The `visualize_bottlenecks()` function shows:\n",
    "- Only arcs above a utilization threshold (default 80%)\n",
    "- Color gradient: Red (high utilization) → Yellow → Green (lower utilization)\n",
    "- Flow and capacity information\n",
    "- Utilization percentages"
   ]
  },
  {
   "cell_type": "code",
   "execution_count": null,
   "metadata": {},
   "outputs": [],
   "source": [
    "fig = visualize_bottlenecks(\n",
    "    bottleneck_problem,\n",
    "    bottleneck_result,\n",
    "    threshold=0.8,  # Show arcs with ≥80% utilization\n",
    "    title=\"Bottleneck Analysis (≥80% Utilization)\",\n",
    ")\n",
    "plt.tight_layout()\n",
    "plt.show()"
   ]
  },
  {
   "cell_type": "markdown",
   "metadata": {},
   "source": [
    "### Adjusting the Bottleneck Threshold\n",
    "\n",
    "You can adjust the threshold to see different levels of utilization."
   ]
  },
  {
   "cell_type": "code",
   "execution_count": null,
   "metadata": {},
   "outputs": [],
   "source": [
    "# Show even lower utilization arcs\n",
    "fig = visualize_bottlenecks(\n",
    "    bottleneck_problem,\n",
    "    bottleneck_result,\n",
    "    threshold=0.5,  # Show arcs with ≥50% utilization\n",
    "    title=\"Bottleneck Analysis (≥50% Utilization)\",\n",
    ")\n",
    "plt.tight_layout()\n",
    "plt.show()"
   ]
  },
  {
   "cell_type": "markdown",
   "metadata": {},
   "source": [
    "## Example 5: Customization Options\n",
    "\n",
    "All visualization functions support extensive customization."
   ]
  },
  {
   "cell_type": "code",
   "execution_count": null,
   "metadata": {},
   "outputs": [],
   "source": [
    "# Create a simple network for demonstration\n",
    "nodes = [\n",
    "    {\"id\": \"A\", \"supply\": 50},\n",
    "    {\"id\": \"B\", \"supply\": -20},\n",
    "    {\"id\": \"C\", \"supply\": -30},\n",
    "]\n",
    "\n",
    "arcs = [\n",
    "    {\"tail\": \"A\", \"head\": \"B\", \"capacity\": 25, \"cost\": 2.0},\n",
    "    {\"tail\": \"A\", \"head\": \"C\", \"capacity\": 30, \"cost\": 3.0},\n",
    "]\n",
    "\n",
    "simple_problem = build_problem(nodes, arcs, directed=True)\n",
    "simple_result = solve_min_cost_flow(simple_problem)"
   ]
  },
  {
   "cell_type": "markdown",
   "metadata": {},
   "source": [
    "### Customization Options"
   ]
  },
  {
   "cell_type": "code",
   "execution_count": null,
   "metadata": {},
   "outputs": [],
   "source": [
    "# Customize the visualization\n",
    "fig = visualize_flows(\n",
    "    simple_problem,\n",
    "    simple_result,\n",
    "    layout=\"circular\",  # Layout algorithm\n",
    "    figsize=(10, 8),  # Figure size\n",
    "    node_size=2000,  # Larger nodes\n",
    "    font_size=12,  # Larger font\n",
    "    highlight_bottlenecks=True,\n",
    "    bottleneck_threshold=0.85,  # Custom threshold\n",
    "    show_zero_flows=True,  # Show arcs with zero flow\n",
    "    title=\"Customized Visualization\",\n",
    ")\n",
    "plt.tight_layout()\n",
    "plt.show()"
   ]
  },
  {
   "cell_type": "markdown",
   "metadata": {},
   "source": [
    "### Hiding Arc Labels for Cleaner Visuals"
   ]
  },
  {
   "cell_type": "code",
   "execution_count": null,
   "metadata": {},
   "outputs": [],
   "source": [
    "# Network visualization without arc labels\n",
    "fig = visualize_network(\n",
    "    multi_stage_problem,\n",
    "    show_arc_labels=False,  # Hide cost/capacity labels\n",
    "    title=\"Clean Network Structure (No Arc Labels)\",\n",
    "    figsize=(12, 8),\n",
    ")\n",
    "plt.tight_layout()\n",
    "plt.show()"
   ]
  },
  {
   "cell_type": "markdown",
   "metadata": {},
   "source": [
    "## Example 6: Saving Visualizations\n",
    "\n",
    "You can save the figures to files for use in reports or presentations."
   ]
  },
  {
   "cell_type": "code",
   "execution_count": null,
   "metadata": {},
   "outputs": [],
   "source": [
    "# Create a visualization and save it\n",
    "fig = visualize_flows(\n",
    "    multi_stage_problem,\n",
    "    multi_stage_result,\n",
    "    title=\"Multi-Stage Supply Chain\",\n",
    "    figsize=(14, 10),\n",
    ")\n",
    "\n",
    "# Save in multiple formats\n",
    "fig.savefig(\"supply_chain_flows.png\", dpi=300, bbox_inches=\"tight\")\n",
    "fig.savefig(\"supply_chain_flows.pdf\", bbox_inches=\"tight\")  # Vector format\n",
    "\n",
    "print(\"Figures saved!\")\n",
    "plt.show()"
   ]
  },
  {
   "cell_type": "markdown",
   "metadata": {},
   "source": [
    "## Summary\n",
    "\n",
    "This tutorial covered:\n",
    "\n",
    "1. **Network Structure Visualization** - `visualize_network()` shows the network topology with color-coded nodes\n",
    "2. **Flow Solution Visualization** - `visualize_flows()` displays the optimal flow with bottleneck highlighting\n",
    "3. **Bottleneck Analysis** - `visualize_bottlenecks()` focuses on capacity-constrained arcs with utilization heatmaps\n",
    "4. **Layout Options** - Multiple algorithms (spring, circular, kamada_kawai, planar)\n",
    "5. **Customization** - Extensive options for figure size, node size, fonts, colors, and thresholds\n",
    "6. **Saving Figures** - Export to PNG, PDF, or other formats\n",
    "\n",
    "## Next Steps\n",
    "\n",
    "- Try visualizing your own network flow problems\n",
    "- Experiment with different layout algorithms to find the best representation\n",
    "- Use bottleneck analysis to identify capacity constraints in your networks\n",
    "- Combine visualizations with the solver's warm start feature to explore \"what-if\" scenarios\n",
    "\n",
    "For more information, see:\n",
    "- [API Documentation](../docs/api.md)\n",
    "- [Examples](../docs/examples.md)\n",
    "- [Main Tutorial](network_flow_tutorial.ipynb)"
   ]
  }
 ],
 "metadata": {
  "kernelspec": {
   "display_name": "Python 3",
   "language": "python",
   "name": "python3"
  },
  "language_info": {
   "codemirror_mode": {
    "name": "ipython",
    "version": 3
   },
   "file_extension": ".py",
   "mimetype": "text/x-python",
   "name": "python",
   "nbconvert_exporter": "python",
   "pygments_lexer": "ipython3",
   "version": "3.12.0"
  }
 },
 "nbformat": 4,
 "nbformat_minor": 4
}